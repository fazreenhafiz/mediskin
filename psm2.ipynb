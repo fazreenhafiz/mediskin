{
 "cells": [
  {
   "cell_type": "code",
   "execution_count": 4,
   "id": "50a1ee08",
   "metadata": {},
   "outputs": [
    {
     "name": "stdout",
     "output_type": "stream",
     "text": [
      "✅ Done splitting BodyPartDataset\n"
     ]
    }
   ],
   "source": [
    "import os, shutil, random\n",
    "from pathlib import Path\n",
    "\n",
    "BASE = Path(r\"D:\\psm2\\BodyPartRaw\")       # your raw images\n",
    "OUT  = Path(r\"D:\\psm2\\BodyPartDataset\")   # output with train/val/test\n",
    "\n",
    "CLASSES = [\"face\", \"hand\", \"leg\"]\n",
    "SPLITS = {\"train\":0.7, \"val\":0.2, \"test\":0.1}\n",
    "\n",
    "for cls in CLASSES:\n",
    "    files = [f for f in (BASE/cls).iterdir() if f.is_file()]\n",
    "    random.shuffle(files)\n",
    "    n = len(files)\n",
    "    n_train = int(SPLITS[\"train\"]*n)\n",
    "    n_val   = int(SPLITS[\"val\"]*n)\n",
    "    \n",
    "    split_map = {\n",
    "        \"train\": files[:n_train],\n",
    "        \"val\":   files[n_train:n_train+n_val],\n",
    "        \"test\":  files[n_train+n_val:]\n",
    "    }\n",
    "\n",
    "    for split, flist in split_map.items():\n",
    "        outdir = OUT/split/cls\n",
    "        outdir.mkdir(parents=True, exist_ok=True)\n",
    "        for f in flist:\n",
    "            shutil.copy(f, outdir/f.name)\n",
    "\n",
    "print(\"✅ Done splitting BodyPartDataset\")\n"
   ]
  },
  {
   "cell_type": "code",
   "execution_count": 5,
   "id": "bcd8cf48",
   "metadata": {},
   "outputs": [
    {
     "name": "stdout",
     "output_type": "stream",
     "text": [
      "Found 518 images belonging to 3 classes.\n",
      "Found 148 images belonging to 3 classes.\n",
      "Downloading data from https://storage.googleapis.com/tensorflow/keras-applications/vgg16/vgg16_weights_tf_dim_ordering_tf_kernels_notop.h5\n",
      "\u001b[1m58889256/58889256\u001b[0m \u001b[32m━━━━━━━━━━━━━━━━━━━━\u001b[0m\u001b[37m\u001b[0m \u001b[1m4s\u001b[0m 0us/step\n"
     ]
    },
    {
     "name": "stderr",
     "output_type": "stream",
     "text": [
      "C:\\Users\\Fazreen\\AppData\\Local\\Packages\\PythonSoftwareFoundation.Python.3.11_qbz5n2kfra8p0\\LocalCache\\local-packages\\Python311\\site-packages\\keras\\src\\trainers\\data_adapters\\py_dataset_adapter.py:121: UserWarning: Your `PyDataset` class should call `super().__init__(**kwargs)` in its constructor. `**kwargs` can include `workers`, `use_multiprocessing`, `max_queue_size`. Do not pass these arguments to `fit()`, as they will be ignored.\n",
      "  self._warn_if_super_not_called()\n"
     ]
    },
    {
     "name": "stdout",
     "output_type": "stream",
     "text": [
      "Epoch 1/20\n"
     ]
    },
    {
     "name": "stderr",
     "output_type": "stream",
     "text": [
      "C:\\Users\\Fazreen\\AppData\\Local\\Packages\\PythonSoftwareFoundation.Python.3.11_qbz5n2kfra8p0\\LocalCache\\local-packages\\Python311\\site-packages\\PIL\\Image.py:1043: UserWarning: Palette images with Transparency expressed in bytes should be converted to RGBA images\n",
      "  warnings.warn(\n"
     ]
    },
    {
     "name": "stdout",
     "output_type": "stream",
     "text": [
      "\u001b[1m17/17\u001b[0m \u001b[32m━━━━━━━━━━━━━━━━━━━━\u001b[0m\u001b[37m\u001b[0m \u001b[1m0s\u001b[0m 3s/step - accuracy: 0.5700 - loss: 2.8011"
     ]
    },
    {
     "name": "stderr",
     "output_type": "stream",
     "text": [
      "C:\\Users\\Fazreen\\AppData\\Local\\Packages\\PythonSoftwareFoundation.Python.3.11_qbz5n2kfra8p0\\LocalCache\\local-packages\\Python311\\site-packages\\keras\\src\\trainers\\data_adapters\\py_dataset_adapter.py:121: UserWarning: Your `PyDataset` class should call `super().__init__(**kwargs)` in its constructor. `**kwargs` can include `workers`, `use_multiprocessing`, `max_queue_size`. Do not pass these arguments to `fit()`, as they will be ignored.\n",
      "  self._warn_if_super_not_called()\n",
      "WARNING:absl:You are saving your model as an HDF5 file via `model.save()` or `keras.saving.save_model(model)`. This file format is considered legacy. We recommend using instead the native Keras format, e.g. `model.save('my_model.keras')` or `keras.saving.save_model(model, 'my_model.keras')`. \n"
     ]
    },
    {
     "name": "stdout",
     "output_type": "stream",
     "text": [
      "\u001b[1m17/17\u001b[0m \u001b[32m━━━━━━━━━━━━━━━━━━━━\u001b[0m\u001b[37m\u001b[0m \u001b[1m81s\u001b[0m 4s/step - accuracy: 0.5697 - loss: 2.7944 - val_accuracy: 0.2432 - val_loss: 1.0091 - learning_rate: 0.0010\n",
      "Epoch 2/20\n",
      "\u001b[1m17/17\u001b[0m \u001b[32m━━━━━━━━━━━━━━━━━━━━\u001b[0m\u001b[37m\u001b[0m \u001b[1m0s\u001b[0m 3s/step - accuracy: 0.5891 - loss: 1.9944"
     ]
    },
    {
     "name": "stderr",
     "output_type": "stream",
     "text": [
      "WARNING:absl:You are saving your model as an HDF5 file via `model.save()` or `keras.saving.save_model(model)`. This file format is considered legacy. We recommend using instead the native Keras format, e.g. `model.save('my_model.keras')` or `keras.saving.save_model(model, 'my_model.keras')`. \n"
     ]
    },
    {
     "name": "stdout",
     "output_type": "stream",
     "text": [
      "\u001b[1m17/17\u001b[0m \u001b[32m━━━━━━━━━━━━━━━━━━━━\u001b[0m\u001b[37m\u001b[0m \u001b[1m74s\u001b[0m 4s/step - accuracy: 0.5951 - loss: 1.9890 - val_accuracy: 0.9392 - val_loss: 0.4308 - learning_rate: 0.0010\n",
      "Epoch 3/20\n",
      "\u001b[1m17/17\u001b[0m \u001b[32m━━━━━━━━━━━━━━━━━━━━\u001b[0m\u001b[37m\u001b[0m \u001b[1m84s\u001b[0m 5s/step - accuracy: 0.7495 - loss: 1.2677 - val_accuracy: 0.8514 - val_loss: 0.4184 - learning_rate: 0.0010\n",
      "Epoch 4/20\n",
      "\u001b[1m17/17\u001b[0m \u001b[32m━━━━━━━━━━━━━━━━━━━━\u001b[0m\u001b[37m\u001b[0m \u001b[1m0s\u001b[0m 4s/step - accuracy: 0.8162 - loss: 1.2416"
     ]
    },
    {
     "name": "stderr",
     "output_type": "stream",
     "text": [
      "WARNING:absl:You are saving your model as an HDF5 file via `model.save()` or `keras.saving.save_model(model)`. This file format is considered legacy. We recommend using instead the native Keras format, e.g. `model.save('my_model.keras')` or `keras.saving.save_model(model, 'my_model.keras')`. \n"
     ]
    },
    {
     "name": "stdout",
     "output_type": "stream",
     "text": [
      "\u001b[1m17/17\u001b[0m \u001b[32m━━━━━━━━━━━━━━━━━━━━\u001b[0m\u001b[37m\u001b[0m \u001b[1m84s\u001b[0m 5s/step - accuracy: 0.8181 - loss: 1.2313 - val_accuracy: 0.9527 - val_loss: 0.2390 - learning_rate: 0.0010\n",
      "Epoch 5/20\n",
      "\u001b[1m17/17\u001b[0m \u001b[32m━━━━━━━━━━━━━━━━━━━━\u001b[0m\u001b[37m\u001b[0m \u001b[1m83s\u001b[0m 5s/step - accuracy: 0.8957 - loss: 1.0721 - val_accuracy: 0.9257 - val_loss: 0.2596 - learning_rate: 0.0010\n",
      "Epoch 6/20\n",
      "\u001b[1m17/17\u001b[0m \u001b[32m━━━━━━━━━━━━━━━━━━━━\u001b[0m\u001b[37m\u001b[0m \u001b[1m0s\u001b[0m 4s/step - accuracy: 0.8934 - loss: 0.8943"
     ]
    },
    {
     "name": "stderr",
     "output_type": "stream",
     "text": [
      "WARNING:absl:You are saving your model as an HDF5 file via `model.save()` or `keras.saving.save_model(model)`. This file format is considered legacy. We recommend using instead the native Keras format, e.g. `model.save('my_model.keras')` or `keras.saving.save_model(model, 'my_model.keras')`. \n"
     ]
    },
    {
     "name": "stdout",
     "output_type": "stream",
     "text": [
      "\u001b[1m17/17\u001b[0m \u001b[32m━━━━━━━━━━━━━━━━━━━━\u001b[0m\u001b[37m\u001b[0m \u001b[1m84s\u001b[0m 5s/step - accuracy: 0.8939 - loss: 0.8903 - val_accuracy: 0.9595 - val_loss: 0.1406 - learning_rate: 0.0010\n",
      "Epoch 7/20\n",
      "\u001b[1m17/17\u001b[0m \u001b[32m━━━━━━━━━━━━━━━━━━━━\u001b[0m\u001b[37m\u001b[0m \u001b[1m85s\u001b[0m 5s/step - accuracy: 0.9328 - loss: 0.7053 - val_accuracy: 0.9257 - val_loss: 0.1983 - learning_rate: 0.0010\n",
      "Epoch 8/20\n",
      "\u001b[1m17/17\u001b[0m \u001b[32m━━━━━━━━━━━━━━━━━━━━\u001b[0m\u001b[37m\u001b[0m \u001b[1m86s\u001b[0m 5s/step - accuracy: 0.8875 - loss: 0.6418 - val_accuracy: 0.9392 - val_loss: 0.1489 - learning_rate: 0.0010\n",
      "Epoch 9/20\n",
      "\u001b[1m17/17\u001b[0m \u001b[32m━━━━━━━━━━━━━━━━━━━━\u001b[0m\u001b[37m\u001b[0m \u001b[1m111s\u001b[0m 7s/step - accuracy: 0.9248 - loss: 0.5136 - val_accuracy: 0.9257 - val_loss: 0.1781 - learning_rate: 0.0010\n",
      "Epoch 10/20\n",
      "\u001b[1m17/17\u001b[0m \u001b[32m━━━━━━━━━━━━━━━━━━━━\u001b[0m\u001b[37m\u001b[0m \u001b[1m114s\u001b[0m 7s/step - accuracy: 0.8866 - loss: 0.5973 - val_accuracy: 0.9459 - val_loss: 0.1297 - learning_rate: 3.0000e-04\n",
      "Epoch 11/20\n",
      "\u001b[1m17/17\u001b[0m \u001b[32m━━━━━━━━━━━━━━━━━━━━\u001b[0m\u001b[37m\u001b[0m \u001b[1m121s\u001b[0m 7s/step - accuracy: 0.9076 - loss: 0.6265 - val_accuracy: 0.9459 - val_loss: 0.1207 - learning_rate: 3.0000e-04\n",
      "Epoch 12/20\n",
      "\u001b[1m17/17\u001b[0m \u001b[32m━━━━━━━━━━━━━━━━━━━━\u001b[0m\u001b[37m\u001b[0m \u001b[1m147s\u001b[0m 9s/step - accuracy: 0.9475 - loss: 0.3995 - val_accuracy: 0.9459 - val_loss: 0.1213 - learning_rate: 3.0000e-04\n",
      "Epoch 13/20\n",
      "\u001b[1m17/17\u001b[0m \u001b[32m━━━━━━━━━━━━━━━━━━━━\u001b[0m\u001b[37m\u001b[0m \u001b[1m140s\u001b[0m 8s/step - accuracy: 0.9325 - loss: 0.3784 - val_accuracy: 0.9595 - val_loss: 0.1066 - learning_rate: 3.0000e-04\n",
      "Epoch 14/20\n",
      "\u001b[1m17/17\u001b[0m \u001b[32m━━━━━━━━━━━━━━━━━━━━\u001b[0m\u001b[37m\u001b[0m \u001b[1m145s\u001b[0m 9s/step - accuracy: 0.9421 - loss: 0.5970 - val_accuracy: 0.9595 - val_loss: 0.1047 - learning_rate: 3.0000e-04\n",
      "Epoch 15/20\n",
      "\u001b[1m17/17\u001b[0m \u001b[32m━━━━━━━━━━━━━━━━━━━━\u001b[0m\u001b[37m\u001b[0m \u001b[1m0s\u001b[0m 6s/step - accuracy: 0.9313 - loss: 0.3856"
     ]
    },
    {
     "name": "stderr",
     "output_type": "stream",
     "text": [
      "WARNING:absl:You are saving your model as an HDF5 file via `model.save()` or `keras.saving.save_model(model)`. This file format is considered legacy. We recommend using instead the native Keras format, e.g. `model.save('my_model.keras')` or `keras.saving.save_model(model, 'my_model.keras')`. \n"
     ]
    },
    {
     "name": "stdout",
     "output_type": "stream",
     "text": [
      "\u001b[1m17/17\u001b[0m \u001b[32m━━━━━━━━━━━━━━━━━━━━\u001b[0m\u001b[37m\u001b[0m \u001b[1m126s\u001b[0m 7s/step - accuracy: 0.9312 - loss: 0.3860 - val_accuracy: 0.9662 - val_loss: 0.0966 - learning_rate: 3.0000e-04\n",
      "Epoch 16/20\n",
      "\u001b[1m17/17\u001b[0m \u001b[32m━━━━━━━━━━━━━━━━━━━━\u001b[0m\u001b[37m\u001b[0m \u001b[1m132s\u001b[0m 8s/step - accuracy: 0.9418 - loss: 0.4015 - val_accuracy: 0.9662 - val_loss: 0.0932 - learning_rate: 3.0000e-04\n",
      "Epoch 17/20\n",
      "\u001b[1m17/17\u001b[0m \u001b[32m━━━━━━━━━━━━━━━━━━━━\u001b[0m\u001b[37m\u001b[0m \u001b[1m137s\u001b[0m 8s/step - accuracy: 0.9351 - loss: 0.3907 - val_accuracy: 0.9595 - val_loss: 0.0992 - learning_rate: 3.0000e-04\n",
      "Epoch 18/20\n",
      "\u001b[1m17/17\u001b[0m \u001b[32m━━━━━━━━━━━━━━━━━━━━\u001b[0m\u001b[37m\u001b[0m \u001b[1m134s\u001b[0m 8s/step - accuracy: 0.9152 - loss: 0.4928 - val_accuracy: 0.9662 - val_loss: 0.1010 - learning_rate: 3.0000e-04\n",
      "Epoch 19/20\n",
      "\u001b[1m17/17\u001b[0m \u001b[32m━━━━━━━━━━━━━━━━━━━━\u001b[0m\u001b[37m\u001b[0m \u001b[1m122s\u001b[0m 7s/step - accuracy: 0.9273 - loss: 0.4973 - val_accuracy: 0.9595 - val_loss: 0.1045 - learning_rate: 3.0000e-04\n",
      "Epoch 20/20\n",
      "\u001b[1m17/17\u001b[0m \u001b[32m━━━━━━━━━━━━━━━━━━━━\u001b[0m\u001b[37m\u001b[0m \u001b[1m129s\u001b[0m 8s/step - accuracy: 0.9441 - loss: 0.3638 - val_accuracy: 0.9595 - val_loss: 0.1038 - learning_rate: 9.0000e-05\n",
      "Epoch 1/10\n",
      "\u001b[1m17/17\u001b[0m \u001b[32m━━━━━━━━━━━━━━━━━━━━\u001b[0m\u001b[37m\u001b[0m \u001b[1m0s\u001b[0m 6s/step - accuracy: 0.8520 - loss: 1.0527"
     ]
    },
    {
     "name": "stderr",
     "output_type": "stream",
     "text": [
      "WARNING:absl:You are saving your model as an HDF5 file via `model.save()` or `keras.saving.save_model(model)`. This file format is considered legacy. We recommend using instead the native Keras format, e.g. `model.save('my_model.keras')` or `keras.saving.save_model(model, 'my_model.keras')`. \n"
     ]
    },
    {
     "name": "stdout",
     "output_type": "stream",
     "text": [
      "\u001b[1m17/17\u001b[0m \u001b[32m━━━━━━━━━━━━━━━━━━━━\u001b[0m\u001b[37m\u001b[0m \u001b[1m151s\u001b[0m 8s/step - accuracy: 0.8536 - loss: 1.0386 - val_accuracy: 0.9865 - val_loss: 0.0680 - learning_rate: 1.0000e-04\n",
      "Epoch 2/10\n",
      "\u001b[1m17/17\u001b[0m \u001b[32m━━━━━━━━━━━━━━━━━━━━\u001b[0m\u001b[37m\u001b[0m \u001b[1m141s\u001b[0m 8s/step - accuracy: 0.9876 - loss: 0.1550 - val_accuracy: 0.9865 - val_loss: 0.1073 - learning_rate: 1.0000e-04\n",
      "Epoch 3/10\n",
      "\u001b[1m17/17\u001b[0m \u001b[32m━━━━━━━━━━━━━━━━━━━━\u001b[0m\u001b[37m\u001b[0m \u001b[1m150s\u001b[0m 9s/step - accuracy: 0.9797 - loss: 0.0847 - val_accuracy: 0.9865 - val_loss: 0.1196 - learning_rate: 1.0000e-04\n",
      "Epoch 4/10\n",
      "\u001b[1m17/17\u001b[0m \u001b[32m━━━━━━━━━━━━━━━━━━━━\u001b[0m\u001b[37m\u001b[0m \u001b[1m157s\u001b[0m 9s/step - accuracy: 0.9819 - loss: 0.0991 - val_accuracy: 0.9662 - val_loss: 0.1141 - learning_rate: 1.0000e-04\n",
      "Epoch 5/10\n",
      "\u001b[1m17/17\u001b[0m \u001b[32m━━━━━━━━━━━━━━━━━━━━\u001b[0m\u001b[37m\u001b[0m \u001b[1m0s\u001b[0m 7s/step - accuracy: 0.9869 - loss: 0.0916"
     ]
    },
    {
     "name": "stderr",
     "output_type": "stream",
     "text": [
      "WARNING:absl:You are saving your model as an HDF5 file via `model.save()` or `keras.saving.save_model(model)`. This file format is considered legacy. We recommend using instead the native Keras format, e.g. `model.save('my_model.keras')` or `keras.saving.save_model(model, 'my_model.keras')`. \n"
     ]
    },
    {
     "name": "stdout",
     "output_type": "stream",
     "text": [
      "\u001b[1m17/17\u001b[0m \u001b[32m━━━━━━━━━━━━━━━━━━━━\u001b[0m\u001b[37m\u001b[0m \u001b[1m149s\u001b[0m 9s/step - accuracy: 0.9871 - loss: 0.0901 - val_accuracy: 0.9932 - val_loss: 0.1442 - learning_rate: 3.0000e-05\n",
      "Epoch 6/10\n",
      "\u001b[1m17/17\u001b[0m \u001b[32m━━━━━━━━━━━━━━━━━━━━\u001b[0m\u001b[37m\u001b[0m \u001b[1m142s\u001b[0m 8s/step - accuracy: 0.9917 - loss: 0.0311 - val_accuracy: 0.9932 - val_loss: 0.1463 - learning_rate: 3.0000e-05\n",
      "Epoch 7/10\n",
      "\u001b[1m17/17\u001b[0m \u001b[32m━━━━━━━━━━━━━━━━━━━━\u001b[0m\u001b[37m\u001b[0m \u001b[1m145s\u001b[0m 9s/step - accuracy: 0.9998 - loss: 0.0071 - val_accuracy: 0.9865 - val_loss: 0.1167 - learning_rate: 3.0000e-05\n",
      "saved model to D:\\psm2\\models\\bodypart_vgg16.h5\n"
     ]
    }
   ],
   "source": [
    "# train_bodypart_vgg16.py\n",
    "import os, json, collections, tensorflow as tf\n",
    "from tensorflow.keras.applications import vgg16\n",
    "from tensorflow.keras import layers, models, callbacks, optimizers\n",
    "\n",
    "DATA = r\"D:\\psm2\\BodyPartDataset\"\n",
    "OUT  = r\"D:\\psm2\\models\"; os.makedirs(OUT, exist_ok=True)\n",
    "IMG = (224,224); BATCH = 32\n",
    "\n",
    "train_gen = tf.keras.preprocessing.image.ImageDataGenerator(\n",
    "    rescale=1./255, rotation_range=15, width_shift_range=0.08, height_shift_range=0.08,\n",
    "    zoom_range=0.15, shear_range=0.08, horizontal_flip=True)\n",
    "val_gen = tf.keras.preprocessing.image.ImageDataGenerator(rescale=1./255)\n",
    "\n",
    "train_ds = train_gen.flow_from_directory(f\"{DATA}\\\\train\", target_size=IMG, batch_size=BATCH, class_mode=\"categorical\")\n",
    "val_ds   = val_gen.flow_from_directory(f\"{DATA}\\\\val\",   target_size=IMG, batch_size=BATCH, class_mode=\"categorical\")\n",
    "\n",
    "with open(os.path.join(OUT,\"bodypart_class_indices.json\"),\"w\") as f:\n",
    "    json.dump(train_ds.class_indices, f, indent=2)\n",
    "\n",
    "# class weights (helps if 'leg' is small)\n",
    "counts = collections.Counter(train_ds.classes.tolist())\n",
    "mx = max(counts.values()); class_weight = {i: mx / counts.get(i,1) for i in range(train_ds.num_classes)}\n",
    "\n",
    "base = vgg16.VGG16(weights=\"imagenet\", include_top=False, input_shape=IMG+(3,))\n",
    "base.trainable = False\n",
    "model = models.Sequential([ base,\n",
    "    layers.GlobalAveragePooling2D(),\n",
    "    layers.Dropout(0.35),\n",
    "    layers.Dense(256, activation=\"relu\"),\n",
    "    layers.Dropout(0.35),\n",
    "    layers.Dense(train_ds.num_classes, activation=\"softmax\") ])\n",
    "\n",
    "model.compile(optimizer=optimizers.Adam(1e-3), loss=\"categorical_crossentropy\", metrics=[\"accuracy\"])\n",
    "ckp = callbacks.ModelCheckpoint(r\"D:\\psm2\\models\\bodypart_vgg16.h5\", save_best_only=True, monitor=\"val_accuracy\")\n",
    "es  = callbacks.EarlyStopping(patience=6, restore_best_weights=True)\n",
    "rlr = callbacks.ReduceLROnPlateau(patience=3, factor=0.3)\n",
    "\n",
    "model.fit(train_ds, epochs=20, validation_data=val_ds, callbacks=[ckp, es, rlr], class_weight=class_weight)\n",
    "\n",
    "# fine-tune last block\n",
    "base.trainable = True\n",
    "for layer in base.layers[:-4]: layer.trainable = False\n",
    "model.compile(optimizer=optimizers.Adam(1e-4), loss=\"categorical_crossentropy\", metrics=[\"accuracy\"])\n",
    "model.fit(train_ds, epochs=10, validation_data=val_ds, callbacks=[ckp, es, rlr], class_weight=class_weight)\n",
    "print(\"saved model to D:\\\\psm2\\\\models\\\\bodypart_vgg16.h5\")\n"
   ]
  }
 ],
 "metadata": {
  "kernelspec": {
   "display_name": "Python 3",
   "language": "python",
   "name": "python3"
  },
  "language_info": {
   "codemirror_mode": {
    "name": "ipython",
    "version": 3
   },
   "file_extension": ".py",
   "mimetype": "text/x-python",
   "name": "python",
   "nbconvert_exporter": "python",
   "pygments_lexer": "ipython3",
   "version": "3.11.9"
  }
 },
 "nbformat": 4,
 "nbformat_minor": 5
}
